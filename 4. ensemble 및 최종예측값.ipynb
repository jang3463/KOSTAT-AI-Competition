{
 "cells": [
  {
   "cell_type": "code",
   "execution_count": 1,
   "id": "3337e555",
   "metadata": {},
   "outputs": [],
   "source": [
    "import numpy as np\n",
    "import pandas as pd"
   ]
  },
  {
   "cell_type": "code",
   "execution_count": 9,
   "id": "b22af908",
   "metadata": {},
   "outputs": [],
   "source": [
    "path = '/content/drive/MyDrive/통계데이터센터/'\n",
    "\n",
    "train = pd.read_csv( path + 'train_preprocessing_aug.csv',encoding='cp949')\n",
    "test = pd.read_csv( path + 'test_preprocessing.csv',encoding='cp949')\n",
    "submission = pd.read_csv(path + 'submission.csv')"
   ]
  },
  {
   "cell_type": "code",
   "execution_count": 10,
   "id": "3155a8b4",
   "metadata": {},
   "outputs": [],
   "source": [
    "from sklearn.preprocessing import LabelEncoder\n",
    "\n",
    "encoder = LabelEncoder()\n",
    "train['digit_3'] = encoder.fit_transform(train['digit_3'].values)"
   ]
  },
  {
   "cell_type": "code",
   "execution_count": 11,
   "id": "e105a97c",
   "metadata": {
    "scrolled": true
   },
   "outputs": [
    {
     "data": {
      "text/plain": [
       "array([ 11,  12,  14,  20,  31,  32,  51,  61,  62,  71,  72,  80, 101,\n",
       "       102, 103, 104, 105, 106, 107, 108, 111, 112, 120, 131, 132, 133,\n",
       "       134, 139, 141, 142, 143, 144, 151, 152, 161, 162, 163, 171, 172,\n",
       "       179, 181, 182, 191, 192, 201, 202, 203, 204, 205, 211, 212, 213,\n",
       "       221, 222, 231, 232, 233, 239, 241, 242, 243, 251, 252, 259, 261,\n",
       "       262, 263, 264, 265, 266, 271, 272, 273, 274, 281, 282, 283, 284,\n",
       "       285, 289, 291, 292, 301, 302, 303, 304, 311, 312, 313, 319, 320,\n",
       "       331, 332, 333, 334, 339, 340, 351, 352, 353, 360, 370, 381, 382,\n",
       "       383, 390, 411, 412, 421, 422, 423, 424, 425, 426, 451, 452, 453,\n",
       "       461, 462, 463, 464, 465, 466, 467, 468, 471, 472, 473, 474, 475,\n",
       "       476, 477, 478, 479, 491, 492, 493, 494, 495, 501, 502, 511, 512,\n",
       "       521, 529, 551, 559, 561, 562, 581, 582, 591, 592, 601, 602, 611,\n",
       "       612, 620, 631, 639, 641, 642, 649, 651, 652, 653, 661, 662, 681,\n",
       "       682, 701, 702, 711, 712, 713, 714, 715, 716, 721, 729, 731, 732,\n",
       "       733, 739, 741, 742, 743, 751, 752, 753, 759, 761, 762, 763, 764,\n",
       "       841, 842, 843, 844, 845, 851, 852, 853, 854, 855, 856, 857, 861,\n",
       "       862, 863, 869, 871, 872, 901, 902, 911, 912, 941, 942, 949, 951,\n",
       "       952, 953, 961, 969], dtype=int64)"
      ]
     },
     "metadata": {},
     "output_type": "display_data"
    }
   ],
   "source": [
    "display(encoder.classes_)"
   ]
  },
  {
   "cell_type": "code",
   "execution_count": 13,
   "id": "46f67590",
   "metadata": {},
   "outputs": [],
   "source": [
    "Roberta30 = np.load(path + 'proba/Roberta30.npy')\n",
    "Roberta50 = np.load(path + 'proba/Roberta50.npy')\n",
    "Roberta70 = np.load(path + 'proba/Roberta70.npy')\n",
    "Roberta120 = np.load(path + 'proba/Roberta120.npy')\n",
    "kobert = np.load(path + 'proba/kobert_dp.npy')"
   ]
  },
  {
   "cell_type": "code",
   "execution_count": 17,
   "id": "f99aaeb0",
   "metadata": {},
   "outputs": [],
   "source": [
    "ensemble = ((Roberta30 + Roberta50 + Roberta70 + Roberta120)/4 + kobert)/2"
   ]
  },
  {
   "cell_type": "code",
   "execution_count": 23,
   "id": "cc9407c9",
   "metadata": {},
   "outputs": [],
   "source": [
    "d3 = []\n",
    "\n",
    "for i in ensemble:\n",
    "  a = np.argmax(i)\n",
    "  d3.append(a)"
   ]
  },
  {
   "cell_type": "code",
   "execution_count": 24,
   "id": "40f02a7a",
   "metadata": {},
   "outputs": [
    {
     "data": {
      "text/plain": [
       "array([561, 466, 949, ..., 478, 902, 682], dtype=int64)"
      ]
     },
     "execution_count": 24,
     "metadata": {},
     "output_type": "execute_result"
    }
   ],
   "source": [
    "encoder.inverse_transform(d3)"
   ]
  },
  {
   "cell_type": "code",
   "execution_count": 25,
   "id": "63722d89",
   "metadata": {},
   "outputs": [],
   "source": [
    "submission['digit_3'] = encoder.inverse_transform(d3)"
   ]
  },
  {
   "cell_type": "code",
   "execution_count": 26,
   "id": "08b8ac2c",
   "metadata": {},
   "outputs": [],
   "source": [
    "def finddigit2(k):\n",
    "    digit2 = k.copy()\n",
    "    digit2['digit_3']= digit2['digit_3'].apply(lambda x : int(x))\n",
    "    digit2['digit_2']= digit2['digit_3'].apply(lambda x : str(x))\n",
    "    digit2['digit_2'] = digit2['digit_2'].apply(lambda x : int(x[:2]) if len(x)==3 else int(x[0]))\n",
    "    \n",
    "    return digit2"
   ]
  },
  {
   "cell_type": "code",
   "execution_count": 27,
   "id": "9cb7d45f",
   "metadata": {},
   "outputs": [],
   "source": [
    "def industry(num):\n",
    "    if num >= 1 and num <= 3:\n",
    "        result  = 'A'\n",
    "    elif num >= 5 and num <= 8:\n",
    "        result  = 'B'\n",
    "    elif num >= 10 and num <= 34:\n",
    "        result  = 'C'\n",
    "    elif num ==35:\n",
    "        result  = 'D'        \n",
    "    elif num >= 36 and num <= 39:\n",
    "        result  = 'E'\n",
    "    elif num >= 41 and num <= 42:\n",
    "        result  = 'F'\n",
    "    elif num >= 45 and num <= 47:\n",
    "        result  = 'G'\n",
    "    elif num >= 49 and num <= 52:\n",
    "        result  = 'H'\n",
    "    elif num >= 55 and num <= 56:\n",
    "        result  = 'I'\n",
    "    elif num >= 58 and num <= 63:\n",
    "        result  = 'J'\n",
    "    elif num >= 64 and num <= 66:\n",
    "        result  = 'K'\n",
    "    elif num == 68:\n",
    "        result  = 'L'\n",
    "    elif num >= 70 and num <= 73:\n",
    "        result  = 'M'\n",
    "    elif num >= 74 and num <= 76:\n",
    "        result  = 'N'\n",
    "    elif num == 84:\n",
    "        result  = 'O'\n",
    "    elif num == 85:\n",
    "        result  = 'P'\n",
    "    elif num >= 86 and num <= 87:\n",
    "        result  = 'Q'\n",
    "    elif num >= 90 and num <= 91:\n",
    "        result  = 'R'\n",
    "    elif num >= 94 and num <= 96:\n",
    "        result  = 'S'\n",
    "    elif num >= 97 and num <= 98:\n",
    "        result  = 'T'\n",
    "    elif num ==99:\n",
    "        result  = 'U'\n",
    "    return result"
   ]
  },
  {
   "cell_type": "code",
   "execution_count": 30,
   "id": "1e7d4329",
   "metadata": {},
   "outputs": [],
   "source": [
    "submission = finddigit2(submission)\n",
    "submission['digit_1'] = submission['digit_2'].apply(lambda x: industry(x))"
   ]
  },
  {
   "cell_type": "code",
   "execution_count": 32,
   "id": "7003f0bf",
   "metadata": {},
   "outputs": [
    {
     "data": {
      "text/html": [
       "<div>\n",
       "<style scoped>\n",
       "    .dataframe tbody tr th:only-of-type {\n",
       "        vertical-align: middle;\n",
       "    }\n",
       "\n",
       "    .dataframe tbody tr th {\n",
       "        vertical-align: top;\n",
       "    }\n",
       "\n",
       "    .dataframe thead th {\n",
       "        text-align: right;\n",
       "    }\n",
       "</style>\n",
       "<table border=\"1\" class=\"dataframe\">\n",
       "  <thead>\n",
       "    <tr style=\"text-align: right;\">\n",
       "      <th></th>\n",
       "      <th>AI_id</th>\n",
       "      <th>digit_1</th>\n",
       "      <th>digit_2</th>\n",
       "      <th>digit_3</th>\n",
       "      <th>text_obj</th>\n",
       "      <th>text_mthd</th>\n",
       "      <th>text_deal</th>\n",
       "    </tr>\n",
       "  </thead>\n",
       "  <tbody>\n",
       "    <tr>\n",
       "      <th>0</th>\n",
       "      <td>id_000001</td>\n",
       "      <td>I</td>\n",
       "      <td>56</td>\n",
       "      <td>561</td>\n",
       "      <td>치킨전문점에서</td>\n",
       "      <td>고객의주문에의해</td>\n",
       "      <td>치킨판매</td>\n",
       "    </tr>\n",
       "    <tr>\n",
       "      <th>1</th>\n",
       "      <td>id_000002</td>\n",
       "      <td>G</td>\n",
       "      <td>46</td>\n",
       "      <td>466</td>\n",
       "      <td>산업공구</td>\n",
       "      <td>다른 소매업자에게</td>\n",
       "      <td>철물 수공구</td>\n",
       "    </tr>\n",
       "    <tr>\n",
       "      <th>2</th>\n",
       "      <td>id_000003</td>\n",
       "      <td>S</td>\n",
       "      <td>94</td>\n",
       "      <td>949</td>\n",
       "      <td>절에서</td>\n",
       "      <td>신도을 대상으로</td>\n",
       "      <td>불교단체운영</td>\n",
       "    </tr>\n",
       "    <tr>\n",
       "      <th>3</th>\n",
       "      <td>id_000004</td>\n",
       "      <td>S</td>\n",
       "      <td>95</td>\n",
       "      <td>952</td>\n",
       "      <td>영업장에서</td>\n",
       "      <td>고객요구로</td>\n",
       "      <td>자동차튜닝</td>\n",
       "    </tr>\n",
       "    <tr>\n",
       "      <th>4</th>\n",
       "      <td>id_000005</td>\n",
       "      <td>I</td>\n",
       "      <td>56</td>\n",
       "      <td>562</td>\n",
       "      <td>실내포장마차에서</td>\n",
       "      <td>접객시설을 갖추고</td>\n",
       "      <td>소주,맥주제공</td>\n",
       "    </tr>\n",
       "    <tr>\n",
       "      <th>...</th>\n",
       "      <td>...</td>\n",
       "      <td>...</td>\n",
       "      <td>...</td>\n",
       "      <td>...</td>\n",
       "      <td>...</td>\n",
       "      <td>...</td>\n",
       "      <td>...</td>\n",
       "    </tr>\n",
       "    <tr>\n",
       "      <th>99995</th>\n",
       "      <td>id_099996</td>\n",
       "      <td>A</td>\n",
       "      <td>1</td>\n",
       "      <td>11</td>\n",
       "      <td>사업장에서</td>\n",
       "      <td>일반인대상으로</td>\n",
       "      <td>버섯농장</td>\n",
       "    </tr>\n",
       "    <tr>\n",
       "      <th>99996</th>\n",
       "      <td>id_099997</td>\n",
       "      <td>Q</td>\n",
       "      <td>86</td>\n",
       "      <td>862</td>\n",
       "      <td>한의원에서</td>\n",
       "      <td>외래환자위주고</td>\n",
       "      <td>치료</td>\n",
       "    </tr>\n",
       "    <tr>\n",
       "      <th>99997</th>\n",
       "      <td>id_099998</td>\n",
       "      <td>G</td>\n",
       "      <td>47</td>\n",
       "      <td>478</td>\n",
       "      <td>일반점포에서</td>\n",
       "      <td>소비자에게</td>\n",
       "      <td>그림판매</td>\n",
       "    </tr>\n",
       "    <tr>\n",
       "      <th>99998</th>\n",
       "      <td>id_099999</td>\n",
       "      <td>R</td>\n",
       "      <td>90</td>\n",
       "      <td>902</td>\n",
       "      <td>사업장에서</td>\n",
       "      <td>일반인.학생대상으로</td>\n",
       "      <td>학습공간제공</td>\n",
       "    </tr>\n",
       "    <tr>\n",
       "      <th>99999</th>\n",
       "      <td>id_100000</td>\n",
       "      <td>L</td>\n",
       "      <td>68</td>\n",
       "      <td>682</td>\n",
       "      <td>사업장에서</td>\n",
       "      <td>대리현대아파트를</td>\n",
       "      <td>관리</td>\n",
       "    </tr>\n",
       "  </tbody>\n",
       "</table>\n",
       "<p>100000 rows × 7 columns</p>\n",
       "</div>"
      ],
      "text/plain": [
       "           AI_id digit_1  digit_2  digit_3  text_obj   text_mthd text_deal\n",
       "0      id_000001       I       56      561   치킨전문점에서    고객의주문에의해      치킨판매\n",
       "1      id_000002       G       46      466      산업공구   다른 소매업자에게    철물 수공구\n",
       "2      id_000003       S       94      949       절에서    신도을 대상으로    불교단체운영\n",
       "3      id_000004       S       95      952     영업장에서       고객요구로     자동차튜닝\n",
       "4      id_000005       I       56      562  실내포장마차에서   접객시설을 갖추고   소주,맥주제공\n",
       "...          ...     ...      ...      ...       ...         ...       ...\n",
       "99995  id_099996       A        1       11     사업장에서     일반인대상으로      버섯농장\n",
       "99996  id_099997       Q       86      862     한의원에서     외래환자위주고        치료\n",
       "99997  id_099998       G       47      478    일반점포에서       소비자에게      그림판매\n",
       "99998  id_099999       R       90      902     사업장에서  일반인.학생대상으로    학습공간제공\n",
       "99999  id_100000       L       68      682     사업장에서    대리현대아파트를        관리\n",
       "\n",
       "[100000 rows x 7 columns]"
      ]
     },
     "execution_count": 32,
     "metadata": {},
     "output_type": "execute_result"
    }
   ],
   "source": [
    "submission"
   ]
  },
  {
   "cell_type": "code",
   "execution_count": null,
   "id": "33af987c",
   "metadata": {},
   "outputs": [],
   "source": [
    "submission.to_csv(path + '산업분류예측값.csv', index=False, encoding='cp949')"
   ]
  },
  {
   "cell_type": "code",
   "execution_count": null,
   "id": "c054f3a5",
   "metadata": {},
   "outputs": [],
   "source": []
  }
 ],
 "metadata": {
  "kernelspec": {
   "display_name": "please",
   "language": "python",
   "name": "pat"
  },
  "language_info": {
   "codemirror_mode": {
    "name": "ipython",
    "version": 3
   },
   "file_extension": ".py",
   "mimetype": "text/x-python",
   "name": "python",
   "nbconvert_exporter": "python",
   "pygments_lexer": "ipython3",
   "version": "3.7.9"
  }
 },
 "nbformat": 4,
 "nbformat_minor": 5
}
