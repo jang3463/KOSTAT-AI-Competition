{
 "cells": [
  {
   "cell_type": "code",
   "execution_count": null,
   "id": "dffbb6b6",
   "metadata": {},
   "outputs": [],
   "source": [
    "# colab 사용시 드라이브 연결\n",
    "\n",
    "# from google.colab import drive\n",
    "# drive.mount('/content/drive')"
   ]
  },
  {
   "cell_type": "code",
   "execution_count": null,
   "id": "47b64961",
   "metadata": {},
   "outputs": [],
   "source": [
    "# colab 사용시 py-hanspell 설치\n",
    "!pip install git+https://github.com/ssut/py-hanspell.git"
   ]
  },
  {
   "cell_type": "code",
   "execution_count": 3,
   "id": "e9897472",
   "metadata": {},
   "outputs": [],
   "source": [
    "import pandas as pd\n",
    "import numpy as np\n",
    "import matplotlib.pyplot as plt\n",
    "plt.rcParams['font.family'] ='Malgun Gothic'\n",
    "plt.rcParams['axes.unicode_minus'] =False\n",
    "from tqdm import tqdm\n",
    "\n",
    "import warnings \n",
    "warnings.filterwarnings('ignore')\n",
    "\n",
    "import random\n",
    "from hanspell import spell_checker\n",
    "from tensorflow.keras.preprocessing.text import Tokenizer\n",
    "from tensorflow.keras.preprocessing.sequence import pad_sequences"
   ]
  },
  {
   "cell_type": "code",
   "execution_count": 4,
   "id": "9f125614",
   "metadata": {},
   "outputs": [],
   "source": [
    "path = '/content/drive/MyDrive/통계데이터센터/'"
   ]
  },
  {
   "cell_type": "code",
   "execution_count": 4,
   "id": "8cbc13b4",
   "metadata": {},
   "outputs": [],
   "source": [
    "train = pd.read_csv(path + '1. 실습용자료.txt', sep='|', encoding='cp949')\n",
    "test = pd.read_csv(path + '2. 모델개발용자료.txt', sep='|', encoding='cp949')\n",
    "ksic = pd.read_excel(path + '산업분류표.xlsx')\n",
    "ksic = ksic.iloc[:1192,:]"
   ]
  },
  {
   "cell_type": "code",
   "execution_count": 5,
   "id": "73f9cb6e",
   "metadata": {},
   "outputs": [],
   "source": [
    "train.drop(columns=['AI_id'],inplace=True)\n",
    "test.drop(columns=['AI_id'],inplace=True)"
   ]
  },
  {
   "cell_type": "code",
   "execution_count": 7,
   "id": "bb487f6e",
   "metadata": {},
   "outputs": [],
   "source": [
    "# 한글과 영어를 제외하고 모두 제거\n",
    "# text_obj, text_mthd, text_deal를 하나로 합치기\n",
    "\n",
    "def combinetext(df,t1,t2,t3):\n",
    "  df2 = df.copy()\n",
    "  df2.fillna(' ',inplace=True)\n",
    "  df2[t1] = df2[t1].str.replace('[^A-Za-z가-힣]', ' ')\n",
    "  df2[t1] = df2[t1].str.replace('^ +', \"\")\n",
    "  # df2[t1].replace('', np.nan, inplace=True)\n",
    "\n",
    "  df2[t2] = df2[t2].str.replace('[^A-Za-z가-힣]', ' ')\n",
    "  df2[t2] = df2[t2].str.replace('^ +', \"\")\n",
    "  # df2[t2].replace('', np.nan, inplace=True)\n",
    "\n",
    "  df2[t3] = df2[t3].str.replace('[^A-Za-z가-힣]', ' ')\n",
    "  df2[t3] = df2[t3].str.replace('^ +', \"\")\n",
    "  # df2[t3].replace('', np.nan, inplace=True)\n",
    "\n",
    "  df2['text'] = df2[t1]+' '+df2[t2]+' '+df2[t3]\n",
    "\n",
    "  df2['text'] = df2['text'].str.replace('[^A-Za-z가-힣]', ' ')\n",
    "  df2['text'] = df2['text'].str.replace('^ +', \" \")\n",
    "  df2['text'].replace('', np.nan, inplace=True)\n",
    "\n",
    "  df2[t1].replace('', np.nan, inplace=True)\n",
    "  df2[t2].replace('', np.nan, inplace=True)\n",
    "  df2[t3].replace('', np.nan, inplace=True)\n",
    "\n",
    "  return df2"
   ]
  },
  {
   "cell_type": "code",
   "execution_count": 8,
   "id": "5b91789b",
   "metadata": {},
   "outputs": [],
   "source": [
    "train1 = combinetext(train,'text_obj','text_mthd','text_deal')\n",
    "train2 = combinetext(ksic,'text1','text4','text5')\n",
    "train2.drop(columns=['text2','text3'],inplace=True)\n",
    "train2.columns = train1.columns\n",
    "\n",
    "train = pd.concat([train1,train2])\n",
    "train = train[(train['digit_3'] != 13) & (train['digit_3'] != 15) & (train['digit_3'] != 52)]\n",
    "\n",
    "test = combinetext(test,'text_obj','text_mthd','text_deal')\n",
    "\n",
    "train  = train[train['text'].notna()]\n",
    "# test  = test[test['text'].notna()]\n",
    "\n",
    "train.reset_index(drop=True,inplace=True)"
   ]
  },
  {
   "cell_type": "code",
   "execution_count": 96,
   "id": "0517ae58",
   "metadata": {},
   "outputs": [
    {
     "data": {
      "text/html": [
       "<div>\n",
       "<style scoped>\n",
       "    .dataframe tbody tr th:only-of-type {\n",
       "        vertical-align: middle;\n",
       "    }\n",
       "\n",
       "    .dataframe tbody tr th {\n",
       "        vertical-align: top;\n",
       "    }\n",
       "\n",
       "    .dataframe thead th {\n",
       "        text-align: right;\n",
       "    }\n",
       "</style>\n",
       "<table border=\"1\" class=\"dataframe\">\n",
       "  <thead>\n",
       "    <tr style=\"text-align: right;\">\n",
       "      <th></th>\n",
       "      <th>digit_1</th>\n",
       "      <th>digit_2</th>\n",
       "      <th>digit_3</th>\n",
       "      <th>text_obj</th>\n",
       "      <th>text_mthd</th>\n",
       "      <th>text_deal</th>\n",
       "      <th>text</th>\n",
       "    </tr>\n",
       "  </thead>\n",
       "  <tbody>\n",
       "    <tr>\n",
       "      <th>0</th>\n",
       "      <td>S</td>\n",
       "      <td>95</td>\n",
       "      <td>952</td>\n",
       "      <td>카센터에서</td>\n",
       "      <td>자동차부분정비</td>\n",
       "      <td>타이어오일교환</td>\n",
       "      <td>카센터에서 자동차부분정비 타이어오일교환</td>\n",
       "    </tr>\n",
       "    <tr>\n",
       "      <th>1</th>\n",
       "      <td>G</td>\n",
       "      <td>47</td>\n",
       "      <td>472</td>\n",
       "      <td>상점내에서</td>\n",
       "      <td>일반인을 대상으로</td>\n",
       "      <td>채소 과일판매</td>\n",
       "      <td>상점내에서 일반인을 대상으로 채소 과일판매</td>\n",
       "    </tr>\n",
       "    <tr>\n",
       "      <th>2</th>\n",
       "      <td>G</td>\n",
       "      <td>46</td>\n",
       "      <td>467</td>\n",
       "      <td>절단하여사업체에도매</td>\n",
       "      <td>공업용고무를가지고</td>\n",
       "      <td>합성고무도매</td>\n",
       "      <td>절단하여사업체에도매 공업용고무를가지고 합성고무도매</td>\n",
       "    </tr>\n",
       "    <tr>\n",
       "      <th>3</th>\n",
       "      <td>G</td>\n",
       "      <td>47</td>\n",
       "      <td>475</td>\n",
       "      <td>영업점에서</td>\n",
       "      <td>일반소비자에게</td>\n",
       "      <td>열쇠잠금장치</td>\n",
       "      <td>영업점에서 일반소비자에게 열쇠잠금장치</td>\n",
       "    </tr>\n",
       "    <tr>\n",
       "      <th>4</th>\n",
       "      <td>Q</td>\n",
       "      <td>87</td>\n",
       "      <td>872</td>\n",
       "      <td>어린이집</td>\n",
       "      <td>보호자의 위탁을 받아</td>\n",
       "      <td>취학전아동보육</td>\n",
       "      <td>어린이집 보호자의 위탁을 받아 취학전아동보육</td>\n",
       "    </tr>\n",
       "  </tbody>\n",
       "</table>\n",
       "</div>"
      ],
      "text/plain": [
       "  digit_1  digit_2  digit_3    text_obj    text_mthd text_deal  \\\n",
       "0       S       95      952       카센터에서      자동차부분정비   타이어오일교환   \n",
       "1       G       47      472       상점내에서    일반인을 대상으로   채소 과일판매   \n",
       "2       G       46      467  절단하여사업체에도매    공업용고무를가지고    합성고무도매   \n",
       "3       G       47      475       영업점에서      일반소비자에게    열쇠잠금장치   \n",
       "4       Q       87      872        어린이집  보호자의 위탁을 받아   취학전아동보육   \n",
       "\n",
       "                          text  \n",
       "0        카센터에서 자동차부분정비 타이어오일교환  \n",
       "1      상점내에서 일반인을 대상으로 채소 과일판매  \n",
       "2  절단하여사업체에도매 공업용고무를가지고 합성고무도매  \n",
       "3         영업점에서 일반소비자에게 열쇠잠금장치  \n",
       "4     어린이집 보호자의 위탁을 받아 취학전아동보육  "
      ]
     },
     "execution_count": 96,
     "metadata": {},
     "output_type": "execute_result"
    }
   ],
   "source": [
    "train.head()"
   ]
  },
  {
   "cell_type": "code",
   "execution_count": 97,
   "id": "103600f6",
   "metadata": {},
   "outputs": [
    {
     "data": {
      "text/html": [
       "<div>\n",
       "<style scoped>\n",
       "    .dataframe tbody tr th:only-of-type {\n",
       "        vertical-align: middle;\n",
       "    }\n",
       "\n",
       "    .dataframe tbody tr th {\n",
       "        vertical-align: top;\n",
       "    }\n",
       "\n",
       "    .dataframe thead th {\n",
       "        text-align: right;\n",
       "    }\n",
       "</style>\n",
       "<table border=\"1\" class=\"dataframe\">\n",
       "  <thead>\n",
       "    <tr style=\"text-align: right;\">\n",
       "      <th></th>\n",
       "      <th>digit_1</th>\n",
       "      <th>digit_2</th>\n",
       "      <th>digit_3</th>\n",
       "      <th>text_obj</th>\n",
       "      <th>text_mthd</th>\n",
       "      <th>text_deal</th>\n",
       "      <th>text</th>\n",
       "    </tr>\n",
       "  </thead>\n",
       "  <tbody>\n",
       "    <tr>\n",
       "      <th>0</th>\n",
       "      <td></td>\n",
       "      <td></td>\n",
       "      <td></td>\n",
       "      <td>치킨전문점에서</td>\n",
       "      <td>고객의주문에의해</td>\n",
       "      <td>치킨판매</td>\n",
       "      <td>치킨전문점에서 고객의주문에의해 치킨판매</td>\n",
       "    </tr>\n",
       "    <tr>\n",
       "      <th>1</th>\n",
       "      <td></td>\n",
       "      <td></td>\n",
       "      <td></td>\n",
       "      <td>산업공구</td>\n",
       "      <td>다른 소매업자에게</td>\n",
       "      <td>철물 수공구</td>\n",
       "      <td>산업공구 다른 소매업자에게 철물 수공구</td>\n",
       "    </tr>\n",
       "    <tr>\n",
       "      <th>2</th>\n",
       "      <td></td>\n",
       "      <td></td>\n",
       "      <td></td>\n",
       "      <td>절에서</td>\n",
       "      <td>신도을 대상으로</td>\n",
       "      <td>불교단체운영</td>\n",
       "      <td>절에서 신도을 대상으로 불교단체운영</td>\n",
       "    </tr>\n",
       "    <tr>\n",
       "      <th>3</th>\n",
       "      <td></td>\n",
       "      <td></td>\n",
       "      <td></td>\n",
       "      <td>영업장에서</td>\n",
       "      <td>고객요구로</td>\n",
       "      <td>자동차튜닝</td>\n",
       "      <td>영업장에서 고객요구로 자동차튜닝</td>\n",
       "    </tr>\n",
       "    <tr>\n",
       "      <th>4</th>\n",
       "      <td></td>\n",
       "      <td></td>\n",
       "      <td></td>\n",
       "      <td>실내포장마차에서</td>\n",
       "      <td>접객시설을 갖추고</td>\n",
       "      <td>소주 맥주제공</td>\n",
       "      <td>실내포장마차에서 접객시설을 갖추고 소주 맥주제공</td>\n",
       "    </tr>\n",
       "  </tbody>\n",
       "</table>\n",
       "</div>"
      ],
      "text/plain": [
       "  digit_1 digit_2 digit_3  text_obj  text_mthd text_deal  \\\n",
       "0                           치킨전문점에서   고객의주문에의해      치킨판매   \n",
       "1                              산업공구  다른 소매업자에게    철물 수공구   \n",
       "2                               절에서   신도을 대상으로    불교단체운영   \n",
       "3                             영업장에서      고객요구로     자동차튜닝   \n",
       "4                          실내포장마차에서  접객시설을 갖추고   소주 맥주제공   \n",
       "\n",
       "                         text  \n",
       "0       치킨전문점에서 고객의주문에의해 치킨판매  \n",
       "1       산업공구 다른 소매업자에게 철물 수공구  \n",
       "2         절에서 신도을 대상으로 불교단체운영  \n",
       "3           영업장에서 고객요구로 자동차튜닝  \n",
       "4  실내포장마차에서 접객시설을 갖추고 소주 맥주제공  "
      ]
     },
     "execution_count": 97,
     "metadata": {},
     "output_type": "execute_result"
    }
   ],
   "source": [
    "test.head()"
   ]
  },
  {
   "cell_type": "code",
   "execution_count": 98,
   "id": "448dc763",
   "metadata": {},
   "outputs": [
    {
     "name": "stdout",
     "output_type": "stream",
     "text": [
      "<class 'pandas.core.frame.DataFrame'>\n",
      "RangeIndex: 1001189 entries, 0 to 1001188\n",
      "Data columns (total 7 columns):\n",
      " #   Column     Non-Null Count    Dtype \n",
      "---  ------     --------------    ----- \n",
      " 0   digit_1    1001189 non-null  object\n",
      " 1   digit_2    1001189 non-null  int64 \n",
      " 2   digit_3    1001189 non-null  int64 \n",
      " 3   text_obj   984502 non-null   object\n",
      " 4   text_mthd  957561 non-null   object\n",
      " 5   text_deal  933517 non-null   object\n",
      " 6   text       1001189 non-null  object\n",
      "dtypes: int64(2), object(5)\n",
      "memory usage: 53.5+ MB\n"
     ]
    }
   ],
   "source": [
    "train.info()"
   ]
  },
  {
   "cell_type": "code",
   "execution_count": 99,
   "id": "c5f51024",
   "metadata": {},
   "outputs": [
    {
     "name": "stdout",
     "output_type": "stream",
     "text": [
      "<class 'pandas.core.frame.DataFrame'>\n",
      "RangeIndex: 100000 entries, 0 to 99999\n",
      "Data columns (total 7 columns):\n",
      " #   Column     Non-Null Count   Dtype \n",
      "---  ------     --------------   ----- \n",
      " 0   digit_1    100000 non-null  object\n",
      " 1   digit_2    100000 non-null  object\n",
      " 2   digit_3    100000 non-null  object\n",
      " 3   text_obj   98188 non-null   object\n",
      " 4   text_mthd  97031 non-null   object\n",
      " 5   text_deal  93833 non-null   object\n",
      " 6   text       100000 non-null  object\n",
      "dtypes: object(7)\n",
      "memory usage: 5.3+ MB\n"
     ]
    }
   ],
   "source": [
    "test.info()"
   ]
  },
  {
   "cell_type": "code",
   "execution_count": null,
   "id": "82ed2247",
   "metadata": {},
   "outputs": [],
   "source": [
    "# 맞춤법 검사\n",
    "tqdm.pandas()\n",
    "train['text'] = train['text'].progress_apply(lambda x: spell_checker.check(x).as_dict()['checked'])\n",
    "\n",
    "# 중복된 값 제거 (약 363638개)\n",
    "train = train.drop_duplicates(subset=['text'])\n",
    "\n",
    "# 전처리한 train 파일 저장\n",
    "train.to_csv(path + 'train_preprocessing.csv', index=False, encoding='cp949')"
   ]
  },
  {
   "cell_type": "code",
   "execution_count": null,
   "id": "ccd946ab",
   "metadata": {},
   "outputs": [],
   "source": [
    "tqdm.pandas()\n",
    "test['text'] = test['text'].progress_apply(lambda x: spell_checker.check(x).as_dict()['checked'])\n",
    "\n",
    "# 전처리한 test 파일 저장\n",
    "test.to_csv(path + 'test_preprocessing.csv', index=False, encoding='cp949')"
   ]
  },
  {
   "cell_type": "code",
   "execution_count": 101,
   "id": "1a3ab230",
   "metadata": {},
   "outputs": [
    {
     "name": "stdout",
     "output_type": "stream",
     "text": [
      "train 결측값 개수 :  0\n",
      "test 결측값 개수 :  0\n"
     ]
    }
   ],
   "source": [
    "# 결측치 확인\n",
    "print('train 결측값 개수 : ',sum(train['text'].isnull()))\n",
    "print('test 결측값 개수 : ',sum(test['text'].isnull()))"
   ]
  },
  {
   "cell_type": "code",
   "execution_count": 102,
   "id": "b193b9a8",
   "metadata": {},
   "outputs": [
    {
     "data": {
      "text/plain": [
       "561    123719\n",
       "562     49762\n",
       "493     49119\n",
       "961     43047\n",
       "492     39184\n",
       "        ...  \n",
       "80          4\n",
       "120         4\n",
       "652         3\n",
       "61          2\n",
       "51          2\n",
       "Name: digit_3, Length: 225, dtype: int64"
      ]
     },
     "execution_count": 102,
     "metadata": {},
     "output_type": "execute_result"
    }
   ],
   "source": [
    "# 레이블(label) 값 분포 불균형 확인\n",
    "train['digit_3'].value_counts()"
   ]
  },
  {
   "cell_type": "code",
   "execution_count": 112,
   "id": "f29a5308",
   "metadata": {},
   "outputs": [
    {
     "name": "stdout",
     "output_type": "stream",
     "text": [
      "text 길이 최대값 : 89\n",
      "text 길이 최소값 : 2\n",
      "text 길이 평균값 : 22.18\n",
      "text 길이 표준편차 : 6.24\n",
      "text 길이 중간값 : 22.0\n",
      "text 길이 제1사분위 : 19.0\n",
      "text 길이 제3사분위 : 26.0\n"
     ]
    }
   ],
   "source": [
    "train_length = train['text'].apply(len)\n",
    "\n",
    "print('text 길이 최대값 : {}'.format(np.max(train_length)))\n",
    "print('text 길이 최소값 : {}'.format(np.min(train_length)))\n",
    "print('text 길이 평균값 : {:.2f}'.format(np.mean(train_length)))\n",
    "print('text 길이 표준편차 : {:.2f}'.format(np.std(train_length)))\n",
    "print('text 길이 중간값 : {}'.format(np.median(train_length)))\n",
    "print('text 길이 제1사분위 : {}'.format(np.percentile(train_length, 25)))\n",
    "print('text 길이 제3사분위 : {}'.format(np.percentile(train_length, 75)))"
   ]
  },
  {
   "cell_type": "code",
   "execution_count": 113,
   "id": "bd9b59ec",
   "metadata": {},
   "outputs": [
    {
     "name": "stdout",
     "output_type": "stream",
     "text": [
      "단어 개수 최대값 : 25\n",
      "단어 개수 최소값 : 1\n",
      "단어 개수 평균값 : 5.64\n",
      "단어 개수 표준편차 : 1.70\n",
      "단어 개수 중간값 : 5.0\n"
     ]
    }
   ],
   "source": [
    "train_word_counts = train['text'].apply(lambda x:len(x.split(' ')))\n",
    "print('단어 개수 최대값 : {}'.format(np.max(train_word_counts)))\n",
    "print('단어 개수 최소값 : {}'.format(np.min(train_word_counts)))\n",
    "print('단어 개수 평균값 : {:.2f}'.format(np.mean(train_word_counts)))\n",
    "print('단어 개수 표준편차 : {:.2f}'.format(np.std(train_word_counts)))\n",
    "print('단어 개수 중간값 : {}'.format(np.median(train_word_counts)))"
   ]
  },
  {
   "cell_type": "code",
   "execution_count": 85,
   "id": "8a0c893b",
   "metadata": {},
   "outputs": [
    {
     "data": {
      "text/plain": [
       "Text(0, 0.5, '빈도 수')"
      ]
     },
     "execution_count": 85,
     "metadata": {},
     "output_type": "execute_result"
    },
    {
     "data": {
      "image/png": "[encoded data removed]",
      "text/plain": [
       "<Figure size 432x288 with 1 Axes>"
      ]
     },
     "metadata": {
      "needs_background": "light"
     },
     "output_type": "display_data"
    }
   ],
   "source": [
    "#train text의 글자 수 히스토그램 \n",
    "ax = train['text'].str.len().hist() \n",
    "ax.set_xlabel('글자 수') \n",
    "ax.set_ylabel('빈도 수')\n"
   ]
  },
  {
   "cell_type": "code",
   "execution_count": 86,
   "id": "484059f6",
   "metadata": {},
   "outputs": [
    {
     "data": {
      "text/plain": [
       "Text(0, 0.5, '빈도 수')"
      ]
     },
     "execution_count": 86,
     "metadata": {},
     "output_type": "execute_result"
    },
    {
     "data": {
      "image/png": "[encoded data removed]",
      "text/plain": [
       "<Figure size 432x288 with 1 Axes>"
      ]
     },
     "metadata": {
      "needs_background": "light"
     },
     "output_type": "display_data"
    }
   ],
   "source": [
    "#토큰 수 \n",
    "ax =train['text'].str.split().map(lambda x: len(x)).hist() \n",
    "ax.set_xlabel('토큰 수') \n",
    "ax.set_ylabel('빈도 수')\n"
   ]
  },
  {
   "cell_type": "code",
   "execution_count": 89,
   "id": "ec5fdc3a",
   "metadata": {},
   "outputs": [
    {
     "data": {
      "text/plain": [
       "Text(0, 0.5, '빈도 수')"
      ]
     },
     "execution_count": 89,
     "metadata": {},
     "output_type": "execute_result"
    },
    {
     "data": {
      "image/png": "[encoded data removed]",
      "text/plain": [
       "<Figure size 432x288 with 1 Axes>"
      ]
     },
     "metadata": {
      "needs_background": "light"
     },
     "output_type": "display_data"
    }
   ],
   "source": [
    "#토큰별 길이 평균 \n",
    "ax = train['text'].str.split().apply(lambda x : [len(i) for i in x]).map(lambda x: np.mean(x)).hist() \n",
    "ax.set_xlabel('토큰 길이 평균') \n",
    "ax.set_ylabel('빈도 수')\n"
   ]
  },
  {
   "cell_type": "code",
   "execution_count": 8,
   "id": "2f34b984",
   "metadata": {},
   "outputs": [],
   "source": [
    "tokenizer = Tokenizer()\n",
    "tokenizer.fit_on_texts(train['text'])\n",
    "x_train_encoded = tokenizer.texts_to_sequences(train['text'])"
   ]
  },
  {
   "cell_type": "code",
   "execution_count": 10,
   "id": "fac97d1d",
   "metadata": {},
   "outputs": [
    {
     "data": {
      "text/plain": [
       "25"
      ]
     },
     "execution_count": 10,
     "metadata": {},
     "output_type": "execute_result"
    }
   ],
   "source": [
    "max(len(l) for l in x_train_encoded)"
   ]
  },
  {
   "cell_type": "code",
   "execution_count": 11,
   "id": "cea8e5e0",
   "metadata": {},
   "outputs": [
    {
     "data": {
      "text/plain": [
       "5.817603611318938"
      ]
     },
     "execution_count": 11,
     "metadata": {},
     "output_type": "execute_result"
    }
   ],
   "source": [
    "sum(map(len, x_train_encoded))/len(x_train_encoded)"
   ]
  }
 ],
 "metadata": {
  "kernelspec": {
   "display_name": "please",
   "language": "python",
   "name": "pat"
  },
  "language_info": {
   "codemirror_mode": {
    "name": "ipython",
    "version": 3
   },
   "file_extension": ".py",
   "mimetype": "text/x-python",
   "name": "python",
   "nbconvert_exporter": "python",
   "pygments_lexer": "ipython3",
   "version": "3.7.9"
  }
 },
 "nbformat": 4,
 "nbformat_minor": 5
}
